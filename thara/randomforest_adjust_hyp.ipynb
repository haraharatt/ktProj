{
 "cells": [
  {
   "cell_type": "code",
   "execution_count": 181,
   "metadata": {},
   "outputs": [],
   "source": [
    "import numpy as np\n",
    "import matplotlib.pyplot as plt\n",
    "import pandas as pd\n",
    "import mglearn\n",
    "from IPython.display import display\n",
    "from sklearn.model_selection import train_test_split\n",
    "from sklearn.tree import DecisionTreeClassifier\n",
    "from sklearn.tree import export_graphviz\n",
    "from sklearn.ensemble import RandomForestClassifier"
   ]
  },
  {
   "cell_type": "code",
   "execution_count": 182,
   "metadata": {},
   "outputs": [],
   "source": [
    "# 指定されたパスからデータを読み込んでDataFrameを生成する\n",
    "def load_datafile(path):\n",
    "    df = pd.read_csv(path)\n",
    "    df = df.replace(\"male\",0).replace(\"female\",1)\n",
    "    df = df.replace(\"C\", 0).replace(\"Q\", 1).replace(\"S\", 2)\n",
    "    #欠損値を補完\n",
    "    df[\"Age\"].fillna(df.Age.median(), inplace=True)\n",
    "    df[\"Fare\"].fillna(df.Fare.median(), inplace=True)\n",
    "    ### 家族数を属性に追加する\n",
    "    df[\"FamilySize\"] = df[\"SibSp\"] + df[\"Parch\"] + 1\n",
    "    df = df.drop([\"Name\", \"Ticket\", \"Cabin\", \"Embarked\"], axis=1)\n",
    "    return df"
   ]
  },
  {
   "cell_type": "code",
   "execution_count": 183,
   "metadata": {},
   "outputs": [],
   "source": [
    "# データを読み込む\n",
    "dataPath = '~/desk/kaggle/ktProj/data/'\n",
    "df = load_datafile(dataPath + \"train.csv\")"
   ]
  },
  {
   "cell_type": "code",
   "execution_count": 184,
   "metadata": {},
   "outputs": [
    {
     "name": "stdout",
     "output_type": "stream",
     "text": [
      "shape train data: (891, 9)\n",
      "shape x data: (891, 7)\n",
      "shape y data: (891,)\n",
      "shape x: (668, 7)\n",
      "shape y: (668,)\n"
     ]
    }
   ],
   "source": [
    "\n",
    "# 学習データを作成(欠損値を含む行は削除)\n",
    "#train_data = df2.values[~pd.isnull(df2.values).any(axis=1)]\n",
    "train_data = df.values[~np.isnan(df.values).any(axis=1)]\n",
    "\n",
    "# トレーニングデータとテストデータに分割する\n",
    "x_data = train_data[:, 2:]\n",
    "y_data = train_data[:, 1]\n",
    "x_train, x_test, y_train, y_test = train_test_split(x_data, y_data, stratify=y_data, random_state=42)\n",
    "n_features = x_data.shape[1]\n",
    "    \n",
    "print(\"shape train data: {}\".format(train_data.shape))\n",
    "print(\"shape x data: {}\".format(x_data.shape))\n",
    "print(\"shape y data: {}\".format(y_data.shape))\n",
    "print(\"shape x: {}\".format(x_train.shape))\n",
    "print(\"shape y: {}\".format(y_train.shape))"
   ]
  },
  {
   "cell_type": "code",
   "execution_count": 185,
   "metadata": {},
   "outputs": [
    {
     "data": {
      "text/plain": [
       "Text(0.5,0,'n_alpha')"
      ]
     },
     "execution_count": 185,
     "metadata": {},
     "output_type": "execute_result"
    },
    {
     "data": {
      "image/png": "[encoded data removed]",
      "text/plain": [
       "<matplotlib.figure.Figure at 0x651e761e80>"
      ]
     },
     "metadata": {},
     "output_type": "display_data"
    }
   ],
   "source": [
    "# ハイパーパラメータを調整\n",
    "\n",
    "training_accuracy = []\n",
    "test_accuracy= []\n",
    "alpha_settings = np.arange(1, 50, 1)\n",
    "\n",
    "for n_alpha in alpha_settings:\n",
    "    rfc = RandomForestClassifier(n_estimators=100, random_state=10, max_features=n_features, max_depth=n_alpha).fit(x_train, y_train)\n",
    "    training_accuracy.append(rfc.score(x_train, y_train))\n",
    "    test_accuracy.append(rfc.score(x_test, y_test))\n",
    "\n",
    "plt.plot(alpha_settings, training_accuracy, label=\"training accuracy\")\n",
    "plt.plot(alpha_settings, test_accuracy, label=\"test accuracy\")\n",
    "plt.ylabel(\"Accuracy\")\n",
    "plt.xlabel(\"n_alpha\")"
   ]
  },
  {
   "cell_type": "code",
   "execution_count": 186,
   "metadata": {},
   "outputs": [],
   "source": [
    "# とりあえずestimators = 100 で試してみる\n",
    "forest = RandomForestClassifier(n_estimators = 100, max_features=n_features, max_depth=10)\n",
    "# 学習\n",
    "forest = forest.fit(x_train, y_train)"
   ]
  },
  {
   "cell_type": "code",
   "execution_count": 187,
   "metadata": {},
   "outputs": [
    {
     "name": "stdout",
     "output_type": "stream",
     "text": [
      "training accuracy : {} 0.952095808383\n",
      "test accuracy : {} 0.793721973094\n"
     ]
    },
    {
     "data": {
      "image/png": "[encoded data removed]",
      "text/plain": [
       "<matplotlib.figure.Figure at 0x651eb9ea90>"
      ]
     },
     "metadata": {},
     "output_type": "display_data"
    }
   ],
   "source": [
    "# トレーニングデータとテストデータに対する性能を見る\n",
    "print(\"training accuracy : {}\", forest.score(x_train, y_train))\n",
    "print(\"test accuracy : {}\", forest.score(x_test, y_test))\n",
    "\n",
    "# 各属性の重要度を可視化してみる\n",
    "def plot_feature_importance_titanic(model):\n",
    "    plt.barh(range(n_features), model.feature_importances_, align='center')\n",
    "    plt.yticks(np.arange(n_features), df2.columns[2:])\n",
    "    plt.xlabel(\"Feature importance\")\n",
    "\n",
    "plot_feature_importance_titanic(forest)"
   ]
  },
  {
   "cell_type": "code",
   "execution_count": 188,
   "metadata": {},
   "outputs": [
    {
     "name": "stdout",
     "output_type": "stream",
     "text": [
      "418 418\n"
     ]
    }
   ],
   "source": [
    "# 投稿データの予測を行う\n",
    "test_df = load_datafile(dataPath + \"test.csv\")\n",
    "\n",
    "test_data = test_df.values\n",
    "xs_test = test_data[:, 1:]\n",
    "\n",
    "output = forest.predict(xs_test)\n",
    "\n",
    "print(len(test_data[:,0]), len(output))\n",
    "zip_data = zip(test_data[:,0].astype(int), output.astype(int))\n",
    "predict_data = list(zip_data)"
   ]
  },
  {
   "cell_type": "code",
   "execution_count": 189,
   "metadata": {},
   "outputs": [],
   "source": [
    "# 予測結果をファイル出力\n",
    "import csv\n",
    "with open(\"predict_result_data.csv\", \"w\") as f:\n",
    "    writer = csv.writer(f, lineterminator='\\n')\n",
    "    writer.writerow([\"PassengerId\", \"Survived\"])\n",
    "    for pid, survived in zip(test_data[:,0].astype(int), output.astype(int)):\n",
    "        writer.writerow([pid, survived])"
   ]
  },
  {
   "cell_type": "code",
   "execution_count": null,
   "metadata": {},
   "outputs": [],
   "source": []
  }
 ],
 "metadata": {
  "kernelspec": {
   "display_name": "Python 3",
   "language": "python",
   "name": "python3"
  }
 },
 "nbformat": 4,
 "nbformat_minor": 2
}
